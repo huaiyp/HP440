{
  "nbformat": 4,
  "nbformat_minor": 0,
  "metadata": {
    "colab": {
      "provenance": []
    },
    "kernelspec": {
      "name": "python3",
      "display_name": "Python 3"
    },
    "language_info": {
      "name": "python"
    }
  },
  "cells": [
    {
      "cell_type": "code",
      "execution_count": 23,
      "metadata": {
        "id": "z1nA9kgf0B03",
        "colab": {
          "base_uri": "https://localhost:8080/"
        },
        "outputId": "318ca61b-b31a-4cb6-9b97-fb2036074e98"
      },
      "outputs": [
        {
          "output_type": "stream",
          "name": "stdout",
          "text": [
            "Drive already mounted at /content/drive; to attempt to forcibly remount, call drive.mount(\"/content/drive\", force_remount=True).\n",
            "      ID Mode  Molecular Weight        m/z  ion  RT [min]  \\\n",
            "0      1    p         143.09448  144.10170  M+H     3.829   \n",
            "1      2    p         127.94626  128.95352  M+H     4.365   \n",
            "2      3    p         129.15178  130.15906  M+H     3.196   \n",
            "3      4    p         137.04751  137.04746  M+H     3.413   \n",
            "4      5    p         161.10502  162.11230  M+H     4.261   \n",
            "..   ...  ...               ...        ...  ...       ...   \n",
            "474  475    p         130.07825  131.08553  M+H     0.875   \n",
            "475  476    p         120.09402  121.10130  M+H     0.874   \n",
            "476  477    p         280.14223  281.14951  M+H     3.810   \n",
            "477  478    p         245.07213  246.07956  M+H     1.044   \n",
            "478  479    p         211.19342  212.20070  M+H     0.883   \n",
            "\n",
            "                                  Name         Formula            MA  \\\n",
            "0                       DL-Stachydrine     C7 H13 N O2  7.241162e+07   \n",
            "1                      128.95352_4.365             NaN  6.361053e+07   \n",
            "2    N,N-Diisopropylethylamine (DIPEA)        C8 H19 N  9.570332e+06   \n",
            "3                         Trigonelline      C7 H7 N O2  4.207025e+07   \n",
            "4                       L(-)-Carnitine     C7 H15 N O3  5.054551e+07   \n",
            "..                                 ...             ...           ...   \n",
            "474                    131.08553_0.875         C10 H10  5.602375e+03   \n",
            "475             1_2_4-Trimethylbenzene          C9 H12  3.353250e+03   \n",
            "476                     281.14951_3.81  C8 H21 N6 O3 P  1.416127e+04   \n",
            "477                    246.07956_1.044  C10 H15 N O4 S  5.283722e+04   \n",
            "478                    UNII:6S7S02945H     C13 H25 N O  1.922469e+03   \n",
            "\n",
            "               MB  MC            MD            OA  OB            OC  \\\n",
            "0    7.804008e+07 NaN  8.885107e+07  4.405727e+07 NaN  9.233459e+07   \n",
            "1    5.078274e+07 NaN  4.162325e+07  5.865537e+07 NaN  2.938435e+07   \n",
            "2    4.012121e+06 NaN  6.908794e+06  9.664532e+07 NaN  4.489954e+06   \n",
            "3    4.922260e+07 NaN  6.346727e+07  3.217016e+07 NaN  6.675210e+07   \n",
            "4    4.204187e+07 NaN  5.364189e+07  2.505404e+07 NaN  5.047156e+07   \n",
            "..            ...  ..           ...           ...  ..           ...   \n",
            "474  1.925418e+04 NaN  2.209208e+03  4.174558e+03 NaN  3.556460e+03   \n",
            "475  1.427608e+04 NaN  3.151273e+03  2.515902e+03 NaN  4.644807e+03   \n",
            "476  3.196576e+04 NaN  4.614239e+04  1.127546e+03 NaN  6.299507e+04   \n",
            "477  4.254197e+04 NaN  1.270072e+04  3.425664e+03 NaN  1.695251e+02   \n",
            "478  1.388265e+04 NaN  7.630852e+03  1.548492e+03 NaN  4.999220e+03   \n",
            "\n",
            "               OD  \n",
            "0    7.867497e+07  \n",
            "1    4.408344e+07  \n",
            "2    6.145834e+06  \n",
            "3    5.693764e+07  \n",
            "4    4.176357e+07  \n",
            "..            ...  \n",
            "474  7.904977e+04  \n",
            "475  7.896610e+04  \n",
            "476  2.702819e+04  \n",
            "477  3.535995e+03  \n",
            "478  6.356648e+04  \n",
            "\n",
            "[479 rows x 16 columns]\n"
          ]
        }
      ],
      "source": [
        "import pandas as pd\n",
        "import matplotlib.pyplot as plt\n",
        "from google.colab import drive\n",
        "drive.mount('/content/drive')\n",
        "\n",
        "crabp=pd.read_csv('/content/drive/MyDrive/Colab Notebooks/Uploaded Feature List_CrabUrine_pos_V2.txt',sep='\\t')\n",
        "print(crabp)\n"
      ]
    },
    {
      "cell_type": "markdown",
      "source": [
        "# New Section"
      ],
      "metadata": {
        "id": "uwIp_1foFUge"
      }
    },
    {
      "cell_type": "code",
      "source": [
        "known_p=crabp.dropna(subset=[\"Formula\"]) "
      ],
      "metadata": {
        "id": "iT4ea-R-2bD7"
      },
      "execution_count": 41,
      "outputs": []
    },
    {
      "cell_type": "code",
      "source": [
        "knowp = known_p.loc[known_p['Name'].str.contains(\"_\")]\n",
        "#print(known_p)"
      ],
      "metadata": {
        "id": "I3PqD8R333bD"
      },
      "execution_count": 50,
      "outputs": []
    },
    {
      "cell_type": "code",
      "source": [
        "Name_chemicals=known_p.drop(knowp.index)\n",
        "#print(Name_chemicals)"
      ],
      "metadata": {
        "id": "ef3DbKb-44c-"
      },
      "execution_count": 49,
      "outputs": []
    },
    {
      "cell_type": "code",
      "source": [
        "crab_chemical=Name_chemicals.dropna(axis=1)\n",
        "#print(crab_chemical)"
      ],
      "metadata": {
        "id": "Wbltqq8f5LV5"
      },
      "execution_count": 48,
      "outputs": []
    },
    {
      "cell_type": "code",
      "source": [
        "pos_list= crab_chemical.groupby('Name')['MA',\"MB\",\"MD\",\"OA\",\"OC\",\"OD\"].transform('sum')\n",
        "print(pos_list)"
      ],
      "metadata": {
        "colab": {
          "base_uri": "https://localhost:8080/"
        },
        "id": "2QgZVuh05Rba",
        "outputId": "d7ff4be8-2b4e-49ca-adbc-65525321b52f"
      },
      "execution_count": 44,
      "outputs": [
        {
          "output_type": "stream",
          "name": "stdout",
          "text": [
            "               MA            MB            MD            OA            OC  \\\n",
            "0    9.028845e+07  9.887430e+07  1.112548e+08  5.585505e+07  1.100479e+08   \n",
            "2    9.570332e+06  4.012121e+06  6.908794e+06  9.664532e+07  4.489954e+06   \n",
            "3    4.317981e+07  4.946685e+07  6.717958e+07  3.261907e+07  7.087417e+07   \n",
            "4    5.054551e+07  4.204187e+07  5.364189e+07  2.505404e+07  5.047156e+07   \n",
            "7    8.710038e+06  1.683875e+07  1.438723e+07  1.388306e+06  3.690965e+07   \n",
            "..            ...           ...           ...           ...           ...   \n",
            "466  2.036295e+04  3.741774e+04  3.694135e+04  7.886296e+03  7.980067e+04   \n",
            "467  6.279628e+06  8.159101e+06  9.996995e+05  1.533065e+06  5.291834e+05   \n",
            "468  8.710038e+06  1.683875e+07  1.438723e+07  1.388306e+06  3.690965e+07   \n",
            "469  6.207885e+03  1.823597e+04  3.023378e+03  3.116340e+03  4.356501e+03   \n",
            "478  1.922469e+03  1.388265e+04  7.630852e+03  1.548492e+03  4.999220e+03   \n",
            "\n",
            "               OD  \n",
            "0    9.862363e+07  \n",
            "2    6.145834e+06  \n",
            "3    5.759200e+07  \n",
            "4    4.176357e+07  \n",
            "7    9.862977e+06  \n",
            "..            ...  \n",
            "466  3.186823e+04  \n",
            "467  1.869551e+06  \n",
            "468  9.862977e+06  \n",
            "469  8.641521e+04  \n",
            "478  6.356648e+04  \n",
            "\n",
            "[237 rows x 6 columns]\n"
          ]
        },
        {
          "output_type": "stream",
          "name": "stderr",
          "text": [
            "<ipython-input-44-064c38ca8033>:1: FutureWarning: Indexing with multiple keys (implicitly converted to a tuple of keys) will be deprecated, use a list instead.\n",
            "  pos_list= crab_chemical.groupby('Name')['MA',\"MB\",\"MD\",\"OA\",\"OC\",\"OD\"].transform('sum')\n"
          ]
        }
      ]
    },
    {
      "cell_type": "code",
      "source": [
        "new_list=pos_list.sort_values(by=\"MA\",ascending=False).drop_duplicates()"
      ],
      "metadata": {
        "id": "4Jp-YOOfHC2Z"
      },
      "execution_count": 30,
      "outputs": []
    },
    {
      "cell_type": "code",
      "source": [
        "final_n=crab_chemical.loc[new_list.index].sort_values(by=\"MA\",ascending=False)\n",
        "#print(final_n)"
      ],
      "metadata": {
        "id": "6q-R73rkJqxM"
      },
      "execution_count": 47,
      "outputs": []
    },
    {
      "cell_type": "code",
      "source": [
        "import numpy as np\n",
        "import matplotlib.pyplot as plt\n",
        "X = np.arange(10)\n",
        "final_n.reset_index\n",
        "\n",
        "fig = plt.figure()\n",
        "ax = fig.add_axes([0,0,1,1])\n",
        "ploty=[]\n",
        "ploty=pd.DataFrame(ploty)\n",
        "ploty[0]=final_n['MA']\n",
        "ploty[1]=final_n['MB']\n",
        "ploty[2]=final_n['MD']\n",
        "ploty[3]=final_n['OA']\n",
        "ploty[4]=final_n['OC']\n",
        "ploty[5]=final_n['OD']\n",
        "ploty[6]=final_n['Name']\n",
        "for i in range(6):\n",
        "  ax.bar(X + 0.1*i, ploty[i][0:10], color=(0.15*i, 0.4, 0.7, 1), width = 0.1,label=final_n.columns[i+8])\n",
        "  ax.legend()\n",
        "ax.set_xticks([0,1,2,3,4,5,6,7,8,9])\n",
        "ax.set_yscale('log')\n",
        "ax.set_xticklabels(ploty[6][0:10],rotation=90)\n",
        "ax.set_ylabel(\"MS Peak\")\n",
        "plt.title(\"Top 10 Chemicals Found in Crab Urine\")\n",
        "plt.show()\n"
      ],
      "metadata": {
        "colab": {
          "base_uri": "https://localhost:8080/",
          "height": 516
        },
        "id": "CEn246NfKEnJ",
        "outputId": "8067666b-ba76-4820-83cf-2559d5271c7a"
      },
      "execution_count": 56,
      "outputs": [
        {
          "output_type": "display_data",
          "data": {
            "text/plain": [
              "<Figure size 432x288 with 1 Axes>"
            ],
            "image/png": "[encoded data removed]"
          },
          "metadata": {
            "needs_background": "light"
          }
        }
      ]
    },
    {
      "cell_type": "code",
      "source": [],
      "metadata": {
        "id": "CiG3ByusIEYl"
      },
      "execution_count": null,
      "outputs": []
    }
  ]
}